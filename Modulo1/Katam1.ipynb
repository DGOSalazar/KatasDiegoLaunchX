{
 "cells": [
  {
   "cell_type": "code",
   "execution_count": null,
   "metadata": {},
   "outputs": [
    {
     "ename": "",
     "evalue": "",
     "output_type": "error",
     "traceback": [
      "\u001b[1;31mRunning cells with 'Python 3.10.2 64-bit' requires ipykernel package.\n",
      "Run the following command to install 'ipykernel' into the Python environment. \n",
      "Command: '\"C:/Program Files/WindowsApps/PythonSoftwareFoundation.Python.3.10_3.10.752.0_x64__qbz5n2kfra8p0/python3.10.exe\" -m pip install ipykernel -U --user --force-reinstall'"
     ]
    }
   ],
   "source": [
    "#MODULE 1\n",
    "print (\"Hello, welcome to the journey!\")\n",
    "#import\n",
    "from datetime import date\n",
    "from datetime import datetime\n",
    "#variables\n",
    "add= 23+45\n",
    "product=add*2\n",
    "Distance_to_alfaCentauri=4.367\n",
    "number_of_planets_on_solar_system=8\n",
    "free_way= True\n",
    "left_side = 10\n",
    "rigth_side= 5\n",
    "x=2\n",
    "#results\n",
    "print(\"The result of the addition is :\", add)\n",
    "print(\"the result of the multiplication is:\", product)\n",
    "print(\"the result of the divition is\",left_side/rigth_side)\n",
    "print(type(Distance_to_alfaCentauri))\n",
    "print(type(number_of_planets_on_solar_system))\n",
    "print(type(free_way))\n",
    "y=x; x+=2; print(\"The incress of\", y ,\"by 2 is\",x) \n",
    "y=x; x-=2; print(\"The decress of\", y ,\"by 2 is\",x)\n",
    "y=x; x*=2; print(\"The multiplication of\", y ,\"by 2 is\",x) \n",
    "y=x; x/=2; print(\"The divition of\", y ,\"by 2 is\",x)\n",
    "print(\"The date is\", date.today(),\"and time\", time())\n",
    "print(\"Today`s date is:\" +str(date.today()))\n",
    "\n",
    "#input date\n",
    "print(\"Welcome to the program!\")\n",
    "name=input(\"Please, introducing you`re name\")\n",
    "print(\"regards:\"+ name)\n",
    "\n",
    "#Calculator\n",
    "first_number=input(\"First:\")\n",
    "Second_number=input(\"Second:\")\n",
    "print(first_number + Second_number) \n",
    "print(int(first_number)+ int(Second_number)) "
   ]
  },
  {
   "cell_type": "code",
   "execution_count": null,
   "metadata": {},
   "outputs": [
    {
     "ename": "",
     "evalue": "",
     "output_type": "error",
     "traceback": [
      "\u001b[1;31mRunning cells with 'Python 3.10.2 64-bit' requires ipykernel package.\n",
      "Run the following command to install 'ipykernel' into the Python environment. \n",
      "Command: '\"C:/Program Files/WindowsApps/PythonSoftwareFoundation.Python.3.10_3.10.752.0_x64__qbz5n2kfra8p0/python3.10.exe\" -m pip install ipykernel -U --user --force-reinstall'"
     ]
    }
   ],
   "source": [
    "#KATA 1\n",
    "#fecha\n",
    "from datetime import date; from datetime import time\n",
    "print(\"Today is:\",date.today())\n",
    "#convertidor de unidades\n",
    "print(\"Pleases, indtroducing the parsecs to convert to ligthyears:\")\n",
    "parsecs=input(\"parsecons\")\n",
    "ligthyear= int(parsecs) *3.26156\n",
    "print(\"The parsecons\", parsecs, \"Convertion to LigthYear:\",+float(ligthyear))"
   ]
  }
 ],
 "metadata": {
  "interpreter": {
   "hash": "724ec1a339adbe259facbad914007a4c377bf72efc4d3f1bd47283089d0760c2"
  },
  "kernelspec": {
   "display_name": "Python 3.10.2 64-bit (windows store)",
   "language": "python",
   "name": "python3"
  },
  "language_info": {
   "name": "python",
   "version": "3.10.2"
  },
  "orig_nbformat": 4
 },
 "nbformat": 4,
 "nbformat_minor": 2
}

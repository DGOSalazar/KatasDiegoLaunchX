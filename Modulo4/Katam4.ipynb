{
 "cells": [
  {
   "cell_type": "code",
   "execution_count": null,
   "metadata": {},
   "outputs": [
    {
     "ename": "",
     "evalue": "",
     "output_type": "error",
     "traceback": [
      "\u001b[1;31mRunning cells with 'Python 3.10.2 64-bit' requires ipykernel package.\n",
      "Run the following command to install 'ipykernel' into the Python environment. \n",
      "Command: '\"C:/Program Files/WindowsApps/PythonSoftwareFoundation.Python.3.10_3.10.752.0_x64__qbz5n2kfra8p0/python3.10.exe\" -m pip install ipykernel -U --user --force-reinstall'"
     ]
    }
   ],
   "source": [
    "##KATA 4\n",
    "\n",
    "text='today and today and tomorrow, yesterday from my love age'\n",
    "text_part=text.split()\n",
    "\n",
    "keywords=['today','tomorrow','yesterday']\n",
    "\n",
    "for sentence in text_part:\n",
    "    for key in keywords:\n",
    "        if key in sentence:\n",
    "            print(sentence.replace('today','Hoy'))\n",
    "            print(sentence.replace('yesterday','Ayer'))\n",
    "            print(sentence.replace('tomorrow','Mañana'))\n",
    "            break \n",
    "        \n",
    "print(\"\\n For ended\")\n"
   ]
  },
  {
   "cell_type": "code",
   "execution_count": null,
   "metadata": {},
   "outputs": [],
   "source": [
    "#Ejercicio 2\n",
    "Planet='Jupyter'\n",
    "Gravity=0.0516\n",
    "name='Granímedes'\n",
    "\n",
    "title=f'Facts about gravity over {name}'\n",
    "facts=f'''{'-'*80}\n",
    "Name of Planet={Planet}\n",
    "Gravity in{name}:{Gravity*1000}m/s2\n",
    "'''\n",
    "template= f'''{title.title()}\n",
    "{facts}'''\n",
    "print(facts)\n",
    "\n"
   ]
  }
 ],
 "metadata": {
  "interpreter": {
   "hash": "724ec1a339adbe259facbad914007a4c377bf72efc4d3f1bd47283089d0760c2"
  },
  "kernelspec": {
   "display_name": "Python 3.10.2 64-bit (windows store)",
   "language": "python",
   "name": "python3"
  },
  "language_info": {
   "name": "python",
   "version": "3.10.2"
  },
  "orig_nbformat": 4
 },
 "nbformat": 4,
 "nbformat_minor": 2
}

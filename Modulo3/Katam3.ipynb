{
 "cells": [
  {
   "cell_type": "code",
   "execution_count": null,
   "metadata": {},
   "outputs": [
    {
     "ename": "",
     "evalue": "",
     "output_type": "error",
     "traceback": [
      "\u001b[1;31mRunning cells with 'Python 3.10.2 64-bit' requires ipykernel package.\n",
      "Run the following command to install 'ipykernel' into the Python environment. \n",
      "Command: '\"C:/Program Files/WindowsApps/PythonSoftwareFoundation.Python.3.10_3.10.752.0_x64__qbz5n2kfra8p0/python3.10.exe\" -m pip install ipykernel -U --user --force-reinstall'"
     ]
    }
   ],
   "source": [
    "#KATA 3\n",
    "#first \n",
    "register=input(\"whats the speed of the asteroid?\")\n",
    "\n",
    "#boolean logic \n",
    "if int(register) > 25 :\n",
    "    print(\"WARNING! An asteroid is coming to you!\")\n",
    "else :\n",
    "    print(\"Don`t worry, all its gona be ok :3\")\n",
    "\n",
    "#second\n",
    "volumen=input(\"whats the volumen of the asteroid?\")\n",
    "#boolean logic\n",
    "if int(volumen) <10 :\n",
    "    print(\"Its a little one\")\n",
    "elif int(volumen)> 10 and int(volumen) <20 :\n",
    "    print(\"its medium one, take care!\")\n",
    "else :\n",
    "    print(\"Houston we have a problem!!\")\n",
    "\n",
    "#third\n",
    "print(\"1- Contact with te station 2-Change the curse\")\n",
    "result=input(\"What do you want to do?\")\n",
    "#boolean logic\n",
    "if str(result) == '1' or str(result) == 'contact' or str(result) == 'station' :\n",
    "    print(\"Ring, Ring, Ring........theres nobody on the other side.\")\n",
    "elif str(result)=='2' or str(result) =='change' or str(result)=='curse' :\n",
    "    print(\"Changing the curse!\")\n",
    "else:\n",
    "    print(\"it was a honnor, capitan!\")"
   ]
  }
 ],
 "metadata": {
  "interpreter": {
   "hash": "724ec1a339adbe259facbad914007a4c377bf72efc4d3f1bd47283089d0760c2"
  },
  "kernelspec": {
   "display_name": "Python 3.10.2 64-bit (windows store)",
   "language": "python",
   "name": "python3"
  },
  "language_info": {
   "name": "python",
   "version": "3.10.2"
  },
  "orig_nbformat": 4
 },
 "nbformat": 4,
 "nbformat_minor": 2
}

{
 "cells": [
  {
   "cell_type": "code",
   "execution_count": null,
   "metadata": {},
   "outputs": [],
   "source": [
    "\n",
    "#KATA 0\n",
    "import ipywidgets as widgets\n",
    "import numpy as np \n",
    "import matplotlib.pyplot as plt\n",
    "#Variable`s\n",
    "endvelocity=11200\n",
    "startvelocity=0\n",
    "acceleration=9.8\n",
    "\n",
    "ignition = widgets.ToggleButton(\n",
    "    value=False,\n",
    "    description='Start Launch',\n",
    "    button_style='success',\n",
    "    tooltip='Engage your Launch',\n",
    "    icon='rocket'\n",
    ")\n",
    "\n",
    "output = widgets.Output()\n",
    "\n",
    "display(ignition, output)\n",
    "\n",
    "def on_value_change(change):\n",
    "    with output:\n",
    "        if change['new'] == True:\n",
    "            print(\"Startship ON!\")\n",
    "        \n",
    "        else:   \n",
    "            print(\"Startship OFF\")\n",
    "ignition.observe(on_value_change, names='value')\n",
    "data= np.random.default_rng(12345)\n",
    "oxy_nums=data.integers(low=0,high=10,size=10)\n",
    "plt.bar(range(len(oxy_nums)), oxy_nums)\n",
    "plt.show()\n",
    "time= (endvelocity-startvelocity)/acceleration\n",
    "print(\"Time to take the needed speed= \",time)\n"
   ]
  }
 ],
 "metadata": {
  "language_info": {
   "name": "python"
  },
  "orig_nbformat": 4
 },
 "nbformat": 4,
 "nbformat_minor": 2
}

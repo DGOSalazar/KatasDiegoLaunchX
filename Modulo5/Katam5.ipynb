{
 "cells": [
  {
   "cell_type": "code",
   "execution_count": null,
   "metadata": {},
   "outputs": [
    {
     "ename": "",
     "evalue": "",
     "output_type": "error",
     "traceback": [
      "\u001b[1;31mRunning cells with 'Python 3.10.2 64-bit' requires ipykernel package.\n",
      "Run the following command to install 'ipykernel' into the Python environment. \n",
      "Command: '\"C:/Program Files/WindowsApps/PythonSoftwareFoundation.Python.3.10_3.10.752.0_x64__qbz5n2kfra8p0/python3.10.exe\" -m pip install ipykernel -U --user --force-reinstall'"
     ]
    }
   ],
   "source": [
    "#KATA 5\n",
    "mercurio=57900000\n",
    "venus=108200000\n",
    "tierra=149600000\n",
    "marte=227900000\n",
    "jupiter=778600000\n",
    "saturno=778600000\n",
    "urano=2872500000\n",
    "neptuno=4495100000\n",
    "\n",
    "print(\"INTERPLANETAY CALCULATOR\\n PLEASE PUT BELOW THE TWO PLANET TO CALCULATE DISTANCES BETWEEN THEM\")\n",
    "print(\"THE LIST OF PLANETS ARE: \\n 1-Mercuri \\n 2-Venus \\n 3-Eart \\n 4-Marts \\n 5-Jupyter \\n 6-Saturn \\n 7-Uranus \\n 8-Neptune\")\n",
    "\n",
    "planetone=input(\"Planet one:\")\n",
    "planettwo=input(\"Planet two:\")\n",
    "\n",
    "result: int(planetone)-int(planettwo);result1=int(result)*0.621\n",
    "print(\"El resultado es:\", result) \n",
    "print(\"En millas es:\", result1)"
   ]
  }
 ],
 "metadata": {
  "interpreter": {
   "hash": "724ec1a339adbe259facbad914007a4c377bf72efc4d3f1bd47283089d0760c2"
  },
  "kernelspec": {
   "display_name": "Python 3.10.2 64-bit (windows store)",
   "language": "python",
   "name": "python3"
  },
  "language_info": {
   "name": "python",
   "version": "3.10.2"
  },
  "orig_nbformat": 4
 },
 "nbformat": 4,
 "nbformat_minor": 2
}

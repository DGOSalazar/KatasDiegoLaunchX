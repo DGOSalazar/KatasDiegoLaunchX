{
 "cells": [
  {
   "cell_type": "code",
   "execution_count": null,
   "metadata": {},
   "outputs": [
    {
     "ename": "",
     "evalue": "",
     "output_type": "error",
     "traceback": [
      "\u001b[1;31mRunning cells with 'Python 3.10.2 64-bit' requires ipykernel package.\n",
      "Run the following command to install 'ipykernel' into the Python environment. \n",
      "Command: '\"C:/Program Files/WindowsApps/PythonSoftwareFoundation.Python.3.10_3.10.752.0_x64__qbz5n2kfra8p0/python3.10.exe\" -m pip install ipykernel -U --user --force-reinstall'"
     ]
    }
   ],
   "source": [
    "#KATA 7\n",
    "planet_new = ''\n",
    "planets = ['mercury','venus','earth','mars','jupiter','saturn','uranus']\n",
    "while planet_new.lower() != '':\n",
    "    if planet_new:\n",
    "        planets.append(planet_new)\n",
    "        \n",
    "for planet in planets:\n",
    "    print(planet)\n",
    "    new_planet = input('Enter a new planet:')"
   ]
  }
 ],
 "metadata": {
  "interpreter": {
   "hash": "724ec1a339adbe259facbad914007a4c377bf72efc4d3f1bd47283089d0760c2"
  },
  "kernelspec": {
   "display_name": "Python 3.10.2 64-bit (windows store)",
   "language": "python",
   "name": "python3"
  },
  "language_info": {
   "name": "python",
   "version": "3.10.2"
  },
  "orig_nbformat": 4
 },
 "nbformat": 4,
 "nbformat_minor": 2
}
